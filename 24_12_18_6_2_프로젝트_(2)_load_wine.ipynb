{
  "cells": [
    {
      "cell_type": "markdown",
      "metadata": {
        "id": "view-in-github",
        "colab_type": "text"
      },
      "source": [
        "<a href=\"https://colab.research.google.com/github/EUNSOLLEE-aiffel/AI-rephyx/blob/master/24_12_18_6_2_%ED%94%84%EB%A1%9C%EC%A0%9D%ED%8A%B8_(2)_load_wine.ipynb\" target=\"_parent\"><img src=\"https://colab.research.google.com/assets/colab-badge.svg\" alt=\"Open In Colab\"/></a>"
      ]
    },
    {
      "cell_type": "code",
      "execution_count": 37,
      "metadata": {
        "id": "Kvcdn2ds4N5B"
      },
      "outputs": [],
      "source": [
        "# (1) 필요한 모듈 import하기\n",
        "from sklearn.datasets import load_wine\n",
        "from sklearn.model_selection import train_test_split\n",
        "from sklearn.metrics import classification_report"
      ]
    },
    {
      "cell_type": "code",
      "execution_count": 38,
      "metadata": {
        "colab": {
          "base_uri": "https://localhost:8080/"
        },
        "id": "-p_khjT64gZu",
        "outputId": "f0ac82c8-b96c-4b57-f063-6145adced26d"
      },
      "outputs": [
        {
          "output_type": "stream",
          "name": "stdout",
          "text": [
            "dict_keys(['data', 'target', 'frame', 'target_names', 'DESCR', 'feature_names'])\n"
          ]
        }
      ],
      "source": [
        "# (2) 데이터 준비\n",
        "from sklearn.datasets import load_wine\n",
        "wine = load_wine()\n",
        "print(wine.keys())"
      ]
    },
    {
      "cell_type": "code",
      "execution_count": 39,
      "metadata": {
        "colab": {
          "base_uri": "https://localhost:8080/"
        },
        "id": "DFCdXH125xsa",
        "outputId": "6daf838b-65c5-4855-fba6-dff03fc94ce5"
      },
      "outputs": [
        {
          "output_type": "stream",
          "name": "stdout",
          "text": [
            "Feature Data Shape: (178, 13)\n",
            "Label Data Shape: (178,)\n",
            "Target Names: ['class_0' 'class_1' 'class_2']\n",
            ".. _wine_dataset:\n",
            "\n",
            "Wine recognition dataset\n",
            "------------------------\n",
            "\n",
            "**Data Set Characteristics:**\n",
            "\n",
            ":Number of Instances: 178\n",
            ":Number of Attributes: 13 numeric, predictive attributes and the class\n",
            ":Attribute Information:\n",
            "    - Alcohol\n",
            "    - Malic acid\n",
            "    - Ash\n",
            "    - Alcalinity of ash\n",
            "    - Magnesium\n",
            "    - Total phenols\n",
            "    - Flavanoids\n",
            "    - Nonflavanoid phenols\n",
            "    - Proanthocyanins\n",
            "    - Color intensity\n",
            "    - Hue\n",
            "    - OD280/OD315 of diluted wines\n",
            "    - Proline\n",
            "    - class:\n",
            "        - class_0\n",
            "        - class_1\n",
            "        - class_2\n",
            "\n",
            ":Summary Statistics:\n",
            "\n",
            "============================= ==== ===== ======= =====\n",
            "                                Min   Max   Mean     SD\n",
            "============================= ==== ===== ======= =====\n",
            "Alcohol:                      11.0  14.8    13.0   0.8\n",
            "Malic Acid:                   0.74  5.80    2.34  1.12\n",
            "Ash:                          1.36  3.23    2.36  0.27\n",
            "Alcalinity of Ash:            10.6  30.0    19.5   3.3\n",
            "Magnesium:                    70.0 162.0    99.7  14.3\n",
            "Total Phenols:                0.98  3.88    2.29  0.63\n",
            "Flavanoids:                   0.34  5.08    2.03  1.00\n",
            "Nonflavanoid Phenols:         0.13  0.66    0.36  0.12\n",
            "Proanthocyanins:              0.41  3.58    1.59  0.57\n",
            "Colour Intensity:              1.3  13.0     5.1   2.3\n",
            "Hue:                          0.48  1.71    0.96  0.23\n",
            "OD280/OD315 of diluted wines: 1.27  4.00    2.61  0.71\n",
            "Proline:                       278  1680     746   315\n",
            "============================= ==== ===== ======= =====\n",
            "\n",
            ":Missing Attribute Values: None\n",
            ":Class Distribution: class_0 (59), class_1 (71), class_2 (48)\n",
            ":Creator: R.A. Fisher\n",
            ":Donor: Michael Marshall (MARSHALL%PLU@io.arc.nasa.gov)\n",
            ":Date: July, 1988\n",
            "\n",
            "This is a copy of UCI ML Wine recognition datasets.\n",
            "https://archive.ics.uci.edu/ml/machine-learning-databases/wine/wine.data\n",
            "\n",
            "The data is the results of a chemical analysis of wines grown in the same\n",
            "region in Italy by three different cultivators. There are thirteen different\n",
            "measurements taken for different constituents found in the three types of\n",
            "wine.\n",
            "\n",
            "Original Owners:\n",
            "\n",
            "Forina, M. et al, PARVUS -\n",
            "An Extendible Package for Data Exploration, Classification and Correlation.\n",
            "Institute of Pharmaceutical and Food Analysis and Technologies,\n",
            "Via Brigata Salerno, 16147 Genoa, Italy.\n",
            "\n",
            "Citation:\n",
            "\n",
            "Lichman, M. (2013). UCI Machine Learning Repository\n",
            "[https://archive.ics.uci.edu/ml]. Irvine, CA: University of California,\n",
            "School of Information and Computer Science.\n",
            "\n",
            ".. dropdown:: References\n",
            "\n",
            "    (1) S. Aeberhard, D. Coomans and O. de Vel,\n",
            "    Comparison of Classifiers in High Dimensional Settings,\n",
            "    Tech. Rep. no. 92-02, (1992), Dept. of Computer Science and Dept. of\n",
            "    Mathematics and Statistics, James Cook University of North Queensland.\n",
            "    (Also submitted to Technometrics).\n",
            "\n",
            "    The data was used with many others for comparing various\n",
            "    classifiers. The classes are separable, though only RDA\n",
            "    has achieved 100% correct classification.\n",
            "    (RDA : 100%, QDA 99.4%, LDA 98.9%, 1NN 96.1% (z-transformed data))\n",
            "    (All results using the leave-one-out technique)\n",
            "\n",
            "    (2) S. Aeberhard, D. Coomans and O. de Vel,\n",
            "    \"THE CLASSIFICATION PERFORMANCE OF RDA\"\n",
            "    Tech. Rep. no. 92-01, (1992), Dept. of Computer Science and Dept. of\n",
            "    Mathematics and Statistics, James Cook University of North Queensland.\n",
            "    (Also submitted to Journal of Chemometrics).\n",
            "\n"
          ]
        }
      ],
      "source": [
        "# (3) 데이터 이해하기\n",
        "\n",
        "# Feature Data 지정하기\n",
        "wine_data = wine.data\n",
        "print(\"Feature Data Shape:\", wine_data.shape)\n",
        "\n",
        "# Label Data 지정하기\n",
        "wine_labels = wine.target\n",
        "print(\"Label Data Shape:\", wine_labels.shape)\n",
        "\n",
        "# Target Names 출력해 보기\n",
        "target_names = wine.target_names\n",
        "print(\"Target Names:\", target_names)\n",
        "\n",
        "# 데이터 Describe 해 보기\n",
        "print(wine.DESCR)"
      ]
    },
    {
      "cell_type": "code",
      "execution_count": 40,
      "metadata": {
        "id": "9JKtzGKMO2Gp"
      },
      "outputs": [],
      "source": [
        "# (4) train, test 데이터 분리\n",
        "X_train, X_test, y_train, y_test = train_test_split(wine_data,\n",
        "                                                    wine_labels,\n",
        "                                                    test_size=0.2,\n",
        "                                                    random_state=7)"
      ]
    },
    {
      "cell_type": "code",
      "execution_count": 41,
      "metadata": {
        "colab": {
          "base_uri": "https://localhost:8080/"
        },
        "id": "vq72KFDARYrL",
        "outputId": "534f92a4-01e7-4bc1-f6c3-2211b7d16a28"
      },
      "outputs": [
        {
          "output_type": "stream",
          "name": "stdout",
          "text": [
            "[ Decision Tree 결과 지표 ]\n",
            "\n",
            "** confusion_matrix:\n",
            " [[ 7  0  0]\n",
            " [ 0 17  0]\n",
            " [ 0  2 10]]\n",
            "\n",
            "** Accuracy:\n",
            " 0.9444444444444444\n",
            "\n",
            "** Precision, Recall, F1-Score:\n",
            "               precision    recall  f1-score   support\n",
            "\n",
            "           0       1.00      1.00      1.00         7\n",
            "           1       0.89      1.00      0.94        17\n",
            "           2       1.00      0.83      0.91        12\n",
            "\n",
            "    accuracy                           0.94        36\n",
            "   macro avg       0.96      0.94      0.95        36\n",
            "weighted avg       0.95      0.94      0.94        36\n",
            "\n"
          ]
        }
      ],
      "source": [
        "# (5) 다양한 모델로 학습시켜보기\n",
        "\n",
        "# Decision Tree 사용해 보기\n",
        "from sklearn.tree import DecisionTreeClassifier\n",
        "\n",
        "decision_tree = DecisionTreeClassifier(random_state=32) # 객체 생성\n",
        "decision_tree.fit(X_train, y_train) # 훈련\n",
        "y_pred = decision_tree.predict(X_test) # 예측\n",
        "\n",
        "\n",
        "# (6) 모델을 평가해 보기\n",
        "\n",
        "print('[ Decision Tree 결과 지표 ]')\n",
        "print()\n",
        "\n",
        "# 혼동 행렬 (confusion_matrix)\n",
        "from sklearn.metrics import confusion_matrix\n",
        "matrix=confusion_matrix(y_test, y_pred)\n",
        "print(\"** confusion_matrix:\\n\",matrix)\n",
        "# 7개 : 실제 0인 데이터를 모델이 0으로 예측\n",
        "# 0개 : 실제 0인 데이터를 모델이 1로 예측\n",
        "# 0개 : 실제 0인 데이터를 모델이 2로 예측\n",
        "# 0개 : 실제 1인 데이터를 모델이 0으로 예측\n",
        "# 17개 : 실제 1인 데이터를 모델이 1로 예측\n",
        "# 0개 : 실제 1인 데이터를 모델이 2로 예측\n",
        "# 0개 : 실제 2인 데이터를 모델이 0으로 예측\n",
        "# 2개 : 실제 2인 데이터를 모델이 1로 예측\n",
        "# 10개 : 실제 2인 데이터를 모델이 2로 예측\n",
        "# 즉, 이 모델은 2개의 데이터를 잘못 예측함\n",
        "print()\n",
        "\n",
        "# 정확도 (Accuracy)\n",
        "from sklearn.metrics import accuracy_score\n",
        "accuracy = accuracy_score(y_test, y_pred)\n",
        "print(\"** Accuracy:\\n\", accuracy)\n",
        "# 정확도 : 94%\n",
        "print()\n",
        "\n",
        "# 정밀도 (Precision), 재현율 (Recall), F1-Score\n",
        "print(\"** Precision, Recall, F1-Score:\\n\",classification_report(y_test, y_pred))\n",
        "# \"0\"의 정밀도, 재현율, F1-Score : 100%, 100%, 100%"
      ]
    },
    {
      "cell_type": "code",
      "execution_count": 42,
      "metadata": {
        "colab": {
          "base_uri": "https://localhost:8080/"
        },
        "id": "LbJzwrzpTfUT",
        "outputId": "97929a2b-f526-4e80-a10d-1302802ead92"
      },
      "outputs": [
        {
          "output_type": "stream",
          "name": "stdout",
          "text": [
            "[ Random Forest 결과 지표 ]\n",
            "\n",
            "** confusion_matrix:\n",
            " [[ 7  0  0]\n",
            " [ 0 17  0]\n",
            " [ 0  0 12]]\n",
            "\n",
            "** Accuracy:\n",
            " 1.0\n",
            "\n",
            "** Precision, Recall, F1-Score:\n",
            "               precision    recall  f1-score   support\n",
            "\n",
            "           0       1.00      1.00      1.00         7\n",
            "           1       1.00      1.00      1.00        17\n",
            "           2       1.00      1.00      1.00        12\n",
            "\n",
            "    accuracy                           1.00        36\n",
            "   macro avg       1.00      1.00      1.00        36\n",
            "weighted avg       1.00      1.00      1.00        36\n",
            "\n"
          ]
        }
      ],
      "source": [
        "# Random Forest 사용해 보기\n",
        "from sklearn.ensemble import RandomForestClassifier\n",
        "\n",
        "random_forest = RandomForestClassifier(random_state=32) # 객체 생성\n",
        "random_forest.fit(X_train, y_train) # 훈련\n",
        "y_pred = random_forest.predict(X_test) # 예측\n",
        "\n",
        "\n",
        "# (6) 모델을 평가해 보기\n",
        "\n",
        "print('[ Random Forest 결과 지표 ]')\n",
        "print()\n",
        "\n",
        "# 혼동 행렬 (confusion_matrix)\n",
        "from sklearn.metrics import confusion_matrix\n",
        "matrix=confusion_matrix(y_test, y_pred)\n",
        "print(\"** confusion_matrix:\\n\",matrix)\n",
        "# 이 모델은 잘못 예측한 데이터가 없음\n",
        "print()\n",
        "\n",
        "# 정확도 (Accuracy)\n",
        "from sklearn.metrics import accuracy_score\n",
        "accuracy = accuracy_score(y_test, y_pred)\n",
        "print(\"** Accuracy:\\n\", accuracy)\n",
        "# 정확도 : 100%\n",
        "print()\n",
        "\n",
        "# 정밀도 (Precision), 재현율 (Recall), F1-Score\n",
        "print(\"** Precision, Recall, F1-Score:\\n\",classification_report(y_test, y_pred))\n",
        "# \"0\"의 정밀도, 재현율, F1-Score : 100%, 100%, 100%"
      ]
    },
    {
      "cell_type": "code",
      "execution_count": 43,
      "metadata": {
        "colab": {
          "base_uri": "https://localhost:8080/"
        },
        "id": "bUWmKw6QTff2",
        "outputId": "f5f00fe7-fab9-4cc1-acc3-9dbc557821b2"
      },
      "outputs": [
        {
          "output_type": "stream",
          "name": "stdout",
          "text": [
            "[ SVM 결과 지표 ]\n",
            "\n",
            "** confusion_matrix:\n",
            " [[ 6  0  1]\n",
            " [ 1 15  1]\n",
            " [ 0 11  1]]\n",
            "\n",
            "** Accuracy:\n",
            " 0.6111111111111112\n",
            "\n",
            "** Precision, Recall, F1-Score:\n",
            "               precision    recall  f1-score   support\n",
            "\n",
            "           0       0.86      0.86      0.86         7\n",
            "           1       0.58      0.88      0.70        17\n",
            "           2       0.33      0.08      0.13        12\n",
            "\n",
            "    accuracy                           0.61        36\n",
            "   macro avg       0.59      0.61      0.56        36\n",
            "weighted avg       0.55      0.61      0.54        36\n",
            "\n"
          ]
        }
      ],
      "source": [
        "# SVM 사용해 보기\n",
        "from sklearn import svm\n",
        "\n",
        "svm_model = svm.SVC() # 객체 생성\n",
        "svm_model.fit(X_train, y_train) # 훈련\n",
        "y_pred = svm_model.predict(X_test) # 예측\n",
        "\n",
        "\n",
        "# (6) 모델을 평가해 보기\n",
        "\n",
        "print('[ SVM 결과 지표 ]')\n",
        "print()\n",
        "\n",
        "# 혼동 행렬 (confusion_matrix)\n",
        "from sklearn.metrics import confusion_matrix\n",
        "matrix=confusion_matrix(y_test, y_pred)\n",
        "print(\"** confusion_matrix:\\n\",matrix)\n",
        "# 이 모델은 14개의 데이터를 잘못 예측함\n",
        "print()\n",
        "\n",
        "# 정확도 (Accuracy)\n",
        "from sklearn.metrics import accuracy_score\n",
        "accuracy = accuracy_score(y_test, y_pred)\n",
        "print(\"** Accuracy:\\n\", accuracy)\n",
        "# 정확도 : 61%\n",
        "print()\n",
        "\n",
        "# 정밀도 (Precision), 재현율 (Recall), F1-Score\n",
        "print(\"** Precision, Recall, F1-Score:\\n\",classification_report(y_test, y_pred))\n",
        "# \"0\"의 정밀도, 재현율, F1-Score : 86%, 86%, 86%"
      ]
    },
    {
      "cell_type": "code",
      "execution_count": 44,
      "metadata": {
        "colab": {
          "base_uri": "https://localhost:8080/"
        },
        "id": "9TawVsQNTfnf",
        "outputId": "c19ddbde-c6cd-4e8d-9634-32fc830d2d7c"
      },
      "outputs": [
        {
          "output_type": "stream",
          "name": "stdout",
          "text": [
            "[ SGD Classifier 결과 지표 ]\n",
            "\n",
            "** confusion_matrix:\n",
            " [[ 7  0  0]\n",
            " [ 5 12  0]\n",
            " [ 7  5  0]]\n",
            "\n",
            "** Accuracy:\n",
            " 0.5277777777777778\n",
            "\n",
            "** Precision, Recall, F1-Score:\n",
            "               precision    recall  f1-score   support\n",
            "\n",
            "           0       0.37      1.00      0.54         7\n",
            "           1       0.71      0.71      0.71        17\n",
            "           2       0.00      0.00      0.00        12\n",
            "\n",
            "    accuracy                           0.53        36\n",
            "   macro avg       0.36      0.57      0.41        36\n",
            "weighted avg       0.40      0.53      0.44        36\n",
            "\n"
          ]
        }
      ],
      "source": [
        "# SGD Classifier 사용해 보기\n",
        "from sklearn.linear_model import SGDClassifier\n",
        "\n",
        "sgd_model = SGDClassifier() # 객체 생성\n",
        "sgd_model.fit(X_train, y_train) # 훈련\n",
        "y_pred = sgd_model.predict(X_test) # 예측\n",
        "\n",
        "\n",
        "# (6) 모델을 평가해 보기\n",
        "\n",
        "print('[ SGD Classifier 결과 지표 ]')\n",
        "print()\n",
        "\n",
        "# 혼동 행렬 (confusion_matrix)\n",
        "from sklearn.metrics import confusion_matrix\n",
        "matrix=confusion_matrix(y_test, y_pred)\n",
        "print(\"** confusion_matrix:\\n\",matrix)\n",
        "# 이 모델은 17개의 데이터를 잘못 예측함\n",
        "print()\n",
        "\n",
        "# 정확도 (Accuracy)\n",
        "from sklearn.metrics import accuracy_score\n",
        "accuracy = accuracy_score(y_test, y_pred)\n",
        "print(\"** Accuracy:\\n\", accuracy)\n",
        "# 정확도 : 53%\n",
        "print()\n",
        "\n",
        "# 정밀도 (Precision), 재현율 (Recall), F1-Score\n",
        "print(\"** Precision, Recall, F1-Score:\\n\",classification_report(y_test, y_pred, zero_division=0))\n",
        "# \"0\"의 정밀도, 재현율, F1-Score : 37%, 100%, 54%"
      ]
    },
    {
      "cell_type": "code",
      "execution_count": 45,
      "metadata": {
        "colab": {
          "base_uri": "https://localhost:8080/"
        },
        "id": "AVZ1efpXTfxz",
        "outputId": "67d9378e-7331-47be-ce0d-0a8ad578f1fd"
      },
      "outputs": [
        {
          "output_type": "stream",
          "name": "stdout",
          "text": [
            "[ Logistic Regression 결과 지표 ]\n",
            "\n",
            "** confusion_matrix:\n",
            " [[ 7  0  0]\n",
            " [ 1 16  0]\n",
            " [ 0  0 12]]\n",
            "\n",
            "** Accuracy:\n",
            " 0.9722222222222222\n",
            "\n",
            "** Precision, Recall, F1-Score:\n",
            "               precision    recall  f1-score   support\n",
            "\n",
            "           0       0.88      1.00      0.93         7\n",
            "           1       1.00      0.94      0.97        17\n",
            "           2       1.00      1.00      1.00        12\n",
            "\n",
            "    accuracy                           0.97        36\n",
            "   macro avg       0.96      0.98      0.97        36\n",
            "weighted avg       0.98      0.97      0.97        36\n",
            "\n"
          ]
        }
      ],
      "source": [
        "# Logistic Regression 사용해 보기\n",
        "from sklearn.linear_model import LogisticRegression\n",
        "\n",
        "logistic_model = LogisticRegression(solver='liblinear',max_iter=1000) # 객체 생성\n",
        "logistic_model.fit(X_train, y_train) # 훈련\n",
        "y_pred = logistic_model.predict(X_test) # 예측\n",
        "\n",
        "\n",
        "# (6) 모델을 평가해 보기\n",
        "\n",
        "print('[ Logistic Regression 결과 지표 ]')\n",
        "print()\n",
        "\n",
        "# 혼동 행렬 (confusion_matrix)\n",
        "from sklearn.metrics import confusion_matrix\n",
        "matrix=confusion_matrix(y_test, y_pred)\n",
        "print(\"** confusion_matrix:\\n\",matrix)\n",
        "# 이 모델은 1개의 데이터를 잘못 예측함\n",
        "print()\n",
        "\n",
        "# 정확도 (Accuracy)\n",
        "from sklearn.metrics import accuracy_score\n",
        "accuracy = accuracy_score(y_test, y_pred)\n",
        "print(\"** Accuracy:\\n\", accuracy)\n",
        "# 정확도 : 97%\n",
        "print()\n",
        "\n",
        "# 정밀도 (Precision), 재현율 (Recall), F1-Score\n",
        "print(\"** Precision, Recall, F1-Score:\\n\",classification_report(y_test, y_pred))\n",
        "# \"0\"의 정밀도, 재현율, F1-Score : 88%, 100%, 93%"
      ]
    },
    {
      "cell_type": "markdown",
      "source": [
        "# (6) 모델을 평가해 보기\n",
        "1. 학습된 모델들의 테스트데이터 예측 결과를 어떻게 해석해야 할까요?\n",
        "```\n",
        "상기 코드란에 주석으로 작성하였습니다.\n",
        "```\n",
        "2. 모델의 성능을 평가하는 지표로는 무엇이 좋을까요? sklearn.metrics 에서 제공하는 평가지표 중 적절한 것을 선택해 보세요.\n",
        "선택하신 이유도 설명해 주세요.\n",
        "```\n",
        "모델의 성능을 평가하는 가장 적절한 평가지표는 정밀도와 재현율의 균형을 고려하는 **F1-score** 입니다.\n",
        "와인 종류를 정확히 분류하는 것이 중요한 목표이기 때문입니다. 와인을 다른 종류로 잘못 분류하면, 고객이 원하는 와인을 받을 수 없게 되고 컴플레인이 발생할 수 있습니다.\n",
        "한 종류의 와인을 잘못 예측하는 것보다, 모든 와인의 종류를 고르게 잘 분류하는 것이 중요하므로, F1-score를 비중 있게 고려하여야 합니다.\n",
        "```"
      ],
      "metadata": {
        "id": "kB28gF4vzFeP"
      }
    }
  ],
  "metadata": {
    "colab": {
      "provenance": [],
      "authorship_tag": "ABX9TyP/qAg8ArpZmDes5gilR+jY",
      "include_colab_link": true
    },
    "kernelspec": {
      "display_name": "Python 3",
      "name": "python3"
    },
    "language_info": {
      "name": "python"
    }
  },
  "nbformat": 4,
  "nbformat_minor": 0
}